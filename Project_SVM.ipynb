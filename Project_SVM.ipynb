{
 "cells": [
  {
   "cell_type": "code",
   "execution_count": 1,
   "metadata": {},
   "outputs": [],
   "source": [
    "'''Importing Pacakges'''\n",
    "import time\n",
    "import numpy as np\n",
    "import h5py\n",
    "import matplotlib.pyplot as plt\n",
    "import scipy\n",
    "from PIL import Image\n",
    "from scipy import ndimage\n",
    "import glob\n",
    "import os"
   ]
  },
  {
   "cell_type": "code",
   "execution_count": 2,
   "metadata": {},
   "outputs": [],
   "source": [
    "'''Loading .mat files'''\n",
    "#os.chdir('C:\\\\Users\\\\kaviy\\\\Downloads\\\\1512427\\\\brainTumorDataPublic_1-766')\n",
    "#os.chdir('') #Please input data directory of your local machine where data is present\n",
    "files=glob.glob('*.mat')"
   ]
  },
  {
   "cell_type": "code",
   "execution_count": 3,
   "metadata": {},
   "outputs": [],
   "source": [
    "'''Reading .mat files and extracting numpy arrays of images'''\n",
    "import cv2 \n",
    "X=[]\n",
    "Y=[]\n",
    "count=0\n",
    "#a = 1\n",
    "for file in files:\n",
    "    with h5py.File(file,'r') as f:\n",
    "        variables=f.items()\n",
    "        for var in variables:\n",
    "            name= var[0]\n",
    "            data=var[1]\n",
    "            if (np.array(data['tumorMask']).shape[1] == 256):\n",
    "                count+=1\n",
    "                #print \n",
    "                (count)\n",
    "            else:\n",
    "                d=data['image']\n",
    "                X.append(cv2.resize(np.array(d),dsize=(64,64),interpolation=cv2.INTER_AREA).flatten())\n",
    "\n",
    "                #X.append(np.array(d))\n",
    "                #X.append(np.array(data['tumorMask']))\n",
    "                Y.append(data['label'][0][0])\n",
    "                #a = data['label'][0][0]\n",
    "                \n"
   ]
  },
  {
   "cell_type": "code",
   "execution_count": 4,
   "metadata": {},
   "outputs": [],
   "source": [
    "# plt.imshow(X[0])"
   ]
  },
  {
   "cell_type": "code",
   "execution_count": 5,
   "metadata": {},
   "outputs": [],
   "source": [
    "X=np.array(X)\n",
    "Y=np.array(Y)\n",
    "\n"
   ]
  },
  {
   "cell_type": "code",
   "execution_count": 6,
   "metadata": {},
   "outputs": [],
   "source": [
    "from sklearn.model_selection import train_test_split\n",
    "X_train,X_test,Y_train,Y_test=train_test_split(X,Y,test_size=0.25,random_state=0)#75 25 split"
   ]
  },
  {
   "cell_type": "code",
   "execution_count": 7,
   "metadata": {},
   "outputs": [
    {
     "data": {
      "text/plain": [
       "((2286, 4096), (2286,), (763, 4096))"
      ]
     },
     "execution_count": 7,
     "metadata": {},
     "output_type": "execute_result"
    }
   ],
   "source": [
    "X_train.shape , Y_train.shape , X_test.shape"
   ]
  },
  {
   "cell_type": "code",
   "execution_count": 8,
   "metadata": {},
   "outputs": [
    {
     "name": "stdout",
     "output_type": "stream",
     "text": [
      "(2286,)\n"
     ]
    },
    {
     "data": {
      "text/plain": [
       "SVC(C=1.0, cache_size=200, class_weight=None, coef0=0.0,\n",
       "  decision_function_shape='ovr', degree=3, gamma='auto', kernel='poly',\n",
       "  max_iter=-1, probability=False, random_state=None, shrinking=True,\n",
       "  tol=0.001, verbose=False)"
      ]
     },
     "execution_count": 8,
     "metadata": {},
     "output_type": "execute_result"
    }
   ],
   "source": [
    "#accu=[]\n",
    "from sklearn import svm\n",
    "clf=svm.SVC(gamma='auto',kernel='poly')\n",
    "Y_train=np.ravel(Y_train)\n",
    "print(Y_train.shape)\n",
    "clf.fit(X_train,Y_train)\n",
    "# Y_predict=clf.predict(X_train)\n",
    "# print(\"test accuracy: {} %\".format(100 - np.mean(np.abs(Y_predict - Y_train)) * 100))\n"
   ]
  },
  {
   "cell_type": "code",
   "execution_count": 9,
   "metadata": {},
   "outputs": [],
   "source": [
    "Y_predict_test=clf.predict(X_test)"
   ]
  },
  {
   "cell_type": "code",
   "execution_count": 10,
   "metadata": {},
   "outputs": [
    {
     "name": "stdout",
     "output_type": "stream",
     "text": [
      "test accuracy: 80.47182175622542 %\n"
     ]
    }
   ],
   "source": [
    "print(\"test accuracy: {} %\".format(100 - np.mean(np.abs(Y_predict_test - Y_test)) * 100))"
   ]
  },
  {
   "cell_type": "code",
   "execution_count": 13,
   "metadata": {},
   "outputs": [
    {
     "name": "stdout",
     "output_type": "stream",
     "text": [
      "              precision    recall  f1-score   support\n",
      "\n",
      "     Class 0       0.64      0.74      0.69       179\n",
      "     Class 1       0.84      0.79      0.81       341\n",
      "     Class 2       0.96      0.93      0.94       243\n",
      "\n",
      "   micro avg       0.82      0.82      0.82       763\n",
      "   macro avg       0.81      0.82      0.81       763\n",
      "weighted avg       0.83      0.82      0.82       763\n",
      "\n"
     ]
    }
   ],
   "source": [
    "predicted_classes = clf.predict(X_test)\n",
    "\n",
    "#predicted_classes = np.argmax(np.round(predicted_classes),axis=1)\n",
    "\n",
    "#Y_test = np.argmax(np.round(Y_test),axis=1)\n",
    "\n",
    "from sklearn.metrics import classification_report\n",
    "target_names = [\"Class {}\".format(i) for i in range(3)]\n",
    "print(classification_report(Y_test, predicted_classes, target_names=target_names))\n"
   ]
  }
 ],
 "metadata": {
  "celltoolbar": "Raw Cell Format",
  "kernelspec": {
   "display_name": "Python 3",
   "language": "python",
   "name": "python3"
  },
  "language_info": {
   "codemirror_mode": {
    "name": "ipython",
    "version": 3
   },
   "file_extension": ".py",
   "mimetype": "text/x-python",
   "name": "python",
   "nbconvert_exporter": "python",
   "pygments_lexer": "ipython3",
   "version": "3.7.1"
  }
 },
 "nbformat": 4,
 "nbformat_minor": 2
}
