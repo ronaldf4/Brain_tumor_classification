{
 "cells": [
  {
   "cell_type": "code",
   "execution_count": 1,
   "metadata": {},
   "outputs": [
    {
     "name": "stderr",
     "output_type": "stream",
     "text": [
      "Using TensorFlow backend.\n"
     ]
    }
   ],
   "source": [
    "import numpy as np\n",
    "\n",
    "from sklearn import linear_model, datasets\n",
    "\n",
    "from sklearn.metrics import classification_report\n",
    "\n",
    "from sklearn.neural_network import BernoulliRBM\n",
    "\n",
    "from keras.models import Sequential\n",
    "\n",
    "from keras.layers import Dense, Activation\n",
    "\n",
    "from keras.callbacks import ModelCheckpoint, TensorBoard\n",
    "\n",
    "import os\n",
    "\n",
    "import json\n",
    "\n",
    "import pickle"
   ]
  },
  {
   "cell_type": "code",
   "execution_count": 2,
   "metadata": {},
   "outputs": [],
   "source": [
    "class DBN():\n",
    "\n",
    "\n",
    "\n",
    "  def __init__(\n",
    "\n",
    "    self,\n",
    "\n",
    "    train_data,\n",
    "\n",
    "    targets, \n",
    "\n",
    "    layers,\n",
    "\n",
    "    outputs,\n",
    "\n",
    "    rbm_lr,\n",
    "\n",
    "    rbm_iters,\n",
    "\n",
    "    rbm_dir=None,\n",
    "\n",
    "    test_data = None,\n",
    "\n",
    "    test_targets = None,    \n",
    "\n",
    "    epochs = 100,\n",
    "\n",
    "    fine_tune_batch_size = 64,\n",
    "\n",
    "    outdir=\"tmp/\",\n",
    "\n",
    "    logdir=\"logs/\"\n",
    "\n",
    "\n",
    "\n",
    "     ):\n",
    "\n",
    "\n",
    "\n",
    "    self.hidden_sizes = layers\n",
    "\n",
    "    self.outputs = outputs\n",
    "\n",
    "    self.targets = targets\n",
    "\n",
    "    self.data = train_data\n",
    "\n",
    "\n",
    "\n",
    "    if test_data is None:\n",
    "\n",
    "      self.validate = False\n",
    "\n",
    "    else:\n",
    "\n",
    "      self.validate = True\n",
    "\n",
    "\n",
    "\n",
    "    self.valid_data = test_data\n",
    "\n",
    "    self.valid_labels = test_targets\n",
    "\n",
    "\n",
    "\n",
    "    self.rbm_learning_rate = rbm_lr\n",
    "\n",
    "    self.rbm_iters = rbm_iters\n",
    "\n",
    "\n",
    "\n",
    "    self.epochs = epochs\n",
    "\n",
    "    self.nn_batch_size = fine_tune_batch_size\n",
    "\n",
    "\n",
    "\n",
    "    self.rbm_weights = []\n",
    "\n",
    "    self.rbm_biases = []\n",
    "\n",
    "    self.rbm_h_act = []\n",
    "\n",
    "\n",
    "\n",
    "    self.model = None\n",
    "\n",
    "    self.history = None\n",
    "\n",
    "\n",
    "\n",
    "    if not os.path.exists(outdir):\n",
    "\n",
    "      os.makedirs(outdir)\n",
    "\n",
    "    if not os.path.exists(logdir):\n",
    "\n",
    "      os.makedirs(logdir)\n",
    "\n",
    "\n",
    "\n",
    "\n",
    "\n",
    "    if outdir[-1]!='/':\n",
    "\n",
    "      outdir = outdir + '/'\n",
    "\n",
    "\n",
    "\n",
    "    self.outdir = outdir\n",
    "\n",
    "    self.logdir=logdir\n",
    "\n",
    "\n",
    "\n",
    "  def pretrain(self,save=True):\n",
    "\n",
    "    \n",
    "\n",
    "    visual_layer = self.data\n",
    "\n",
    "\n",
    "\n",
    "    for i in range(len(self.hidden_sizes)):\n",
    "\n",
    "      print(\"[DBN] Layer {} Pre-Training\".format(i+1))\n",
    "\n",
    "\n",
    "\n",
    "      rbm = BernoulliRBM(n_components = self.hidden_sizes[i], n_iter = self.rbm_iters[i], learning_rate = self.rbm_learning_rate[i],  verbose = True, batch_size = 32)\n",
    "\n",
    "      rbm.fit(visual_layer)\n",
    "\n",
    "      self.rbm_weights.append(rbm.components_)\n",
    "\n",
    "      self.rbm_biases.append(rbm.intercept_hidden_)\n",
    "\n",
    "      self.rbm_h_act.append(rbm.transform(visual_layer))\n",
    "\n",
    "\n",
    "\n",
    "      visual_layer = self.rbm_h_act[-1]\n",
    "\n",
    "\n",
    "\n",
    "    if save:\n",
    "\n",
    "      with open(self.outdir + \"rbm_weights.p\", 'wb') as f:\n",
    "\n",
    "        pickle.dump(self.rbm_weights, f)\n",
    "\n",
    "\n",
    "\n",
    "      with open(self.outdir + \"rbm_biases.p\", 'wb') as f:\n",
    "\n",
    "        pickle.dump(self.rbm_biases, f)\n",
    "\n",
    "\n",
    "\n",
    "      with open(self.outdir + \"rbm_hidden.p\", 'wb') as f:\n",
    "\n",
    "        pickle.dump(self.rbm_h_act, f) \n",
    "\n",
    "\n",
    "\n",
    "\n",
    "\n",
    "\n",
    "\n",
    "\n",
    "\n",
    "  def finetune(self):\n",
    "\n",
    "    model = Sequential()\n",
    "\n",
    "    for i in range(len(self.hidden_sizes)):\n",
    "\n",
    "\n",
    "\n",
    "      if i==0:\n",
    "\n",
    "        model.add(Dense(self.hidden_sizes[i], activation='relu', input_dim=self.data.shape[1], name='rbm_{}'.format(i)))\n",
    "\n",
    "      else:\n",
    "\n",
    "        model.add(Dense(self.hidden_sizes[i], activation='relu', name='rbm_{}'.format(i)))\n",
    "\n",
    "\n",
    "\n",
    "\n",
    "\n",
    "    model.add(Dense(self.outputs, activation='softmax'))\n",
    "\n",
    "    model.compile(optimizer='Adam',\n",
    "\n",
    "              loss='categorical_crossentropy',\n",
    "\n",
    "              metrics=['accuracy'])\n",
    "\n",
    "\n",
    "\n",
    "    for i in range(len(self.hidden_sizes)):\n",
    "\n",
    "      layer = model.get_layer('rbm_{}'.format(i))\n",
    "\n",
    "      layer.set_weights([self.rbm_weights[i].transpose(),self.rbm_biases[i]])\n",
    "\n",
    "\n",
    "\n",
    "    checkpointer = ModelCheckpoint(filepath= self.outdir + \"dbn_weights.hdf5\", verbose=1, save_best_only=True)\n",
    "\n",
    "    tensorboard = TensorBoard(log_dir=self.logdir)\n",
    "\n",
    "\n",
    "\n",
    "    if self.validate:\n",
    "\n",
    "      self.history = model.fit(trainx, trainy, \n",
    "\n",
    "                              epochs = self.epochs, \n",
    "\n",
    "                              batch_size = self.nn_batch_size,\n",
    "\n",
    "                              validation_data=(self.valid_data, self.valid_labels),\n",
    "\n",
    "                              callbacks=[checkpointer, tensorboard])\n",
    "\n",
    "    else:\n",
    "\n",
    "       self.history = model.fit(trainx, trainy, \n",
    "\n",
    "                              epochs = self.epochs, \n",
    "\n",
    "                              batch_size = self.nn_batch_size,\n",
    "\n",
    "                              callbacks=[checkpointer, tensorboard])     \n",
    "\n",
    "    self.model = model\n",
    "\n",
    "\n",
    "\n",
    "  def report(self, data, labels):\n",
    "\n",
    "    print(classification_report(np.argmax(labels, axis=1), np.argmax(self.model.predict(data),axis=1)))\n",
    "\n",
    "\n",
    "\n",
    "\n",
    "\n",
    "  def save_model(self,filename):\n",
    "\n",
    "\n",
    "\n",
    "    if self.model is None :\n",
    "\n",
    "      raise ValueError(\"Run finetune() first\")\n",
    "\n",
    "\n",
    "\n",
    "    with open(self.outdir + filename, mode='w', encoding='utf-8') as outfile:\n",
    "\n",
    "\n",
    "\n",
    "      data = {\n",
    "\n",
    "              \"model_config\"\n",
    "          :self.model.get_config(),\n",
    "\n",
    "              \"loss_acc\": self.history.history\n",
    "\n",
    "          }\n",
    "\n",
    "      json.dump(data, outfile, indent=2)\n",
    "\n",
    "\n",
    "\n",
    "  def load_rbm(self):\n",
    "\n",
    "    try:\n",
    "\n",
    "      self.rbm_weights = pickle.load(self.rbm_dir + \"rbm_weights.p\")\n",
    "\n",
    "      self.rbm_biases = pickle.load(self.rbm_dir + \"rbm_biases.p\")\n",
    "\n",
    "      self.rbm_h_act = pickle.load(self.rbm_dir + \"rbm_hidden.p\")\n",
    "\n",
    "    except:\n",
    "\n",
    "      print(\"No such file or directory.\")\n",
    "\n"
   ]
  },
  {
   "cell_type": "code",
   "execution_count": 3,
   "metadata": {},
   "outputs": [],
   "source": [
    "import glob\n",
    "import os\n",
    "os.chdir('C://Users//Ron//Desktop//ML_proj/Brain_cancer/data')\n",
    "files=glob.glob('*.mat')"
   ]
  },
  {
   "cell_type": "code",
   "execution_count": 4,
   "metadata": {},
   "outputs": [],
   "source": [
    "import h5py\n",
    "import cv2 \n",
    "X=[]\n",
    "Y=[]\n",
    "data=[]\n",
    "count=0\n",
    "#a = 1\n",
    "for file in files:\n",
    "    with h5py.File(file,'r') as f:\n",
    "        variables=f.items()\n",
    "        for var in variables:\n",
    "            name= var[0]\n",
    "            data=var[1]\n",
    "            if (np.array(data['tumorMask']).shape[1] == 256):\n",
    "                count+=1\n",
    "                #print \n",
    "                (count)\n",
    "            else:\n",
    "                d=data['image']\n",
    "                X.append(cv2.resize(np.array(d),dsize=(64,64),interpolation=cv2.INTER_AREA).flatten())\n",
    "\n",
    "                #X.append(np.array(d))\n",
    "                #X.append(np.array(data['tumorMask']))\n",
    "                Y.append(data['label'][0][0])\n",
    "                \n",
    "                #a = data['label'][0][0]\n",
    "                \n"
   ]
  },
  {
   "cell_type": "code",
   "execution_count": 5,
   "metadata": {},
   "outputs": [],
   "source": [
    "from keras.utils import to_categorical\n",
    "X=np.array(X)\n",
    "Y=np.array(Y)\n",
    "Y=np.array(Y)-1\n",
    "# Y = to_categorical(Y)\n",
    "# Y.shape"
   ]
  },
  {
   "cell_type": "code",
   "execution_count": 6,
   "metadata": {},
   "outputs": [],
   "source": [
    "from sklearn.model_selection import train_test_split\n",
    "trainx, testx,trainy , testy = train_test_split(X,Y, test_size=0.25, random_state=0)"
   ]
  },
  {
   "cell_type": "code",
   "execution_count": 7,
   "metadata": {},
   "outputs": [],
   "source": [
    "# dbn = DBN(train_data = trainx, targets = trainy,\n",
    "\n",
    "#             test_data = testx, test_targets = testy,\n",
    "\n",
    "#             layers = [100],\n",
    "\n",
    "#             outputs = 3,\n",
    "\n",
    "#             rbm_iters = [10],\n",
    "\n",
    "#             rbm_lr = [0.01]\n",
    "#             )\n",
    "\n",
    "# dbn.pretrain(save=True)\n",
    "\n",
    "# dbn.finetune()\n",
    "\n",
    "# dbn.save_model(\"mnist_dbn_model.json\")"
   ]
  },
  {
   "cell_type": "code",
   "execution_count": 8,
   "metadata": {},
   "outputs": [],
   "source": [
    "# print(\"Training Report\")\n",
    "\n",
    "\n",
    "# dbn.report(trainx,trainy)"
   ]
  },
  {
   "cell_type": "code",
   "execution_count": 9,
   "metadata": {},
   "outputs": [],
   "source": [
    "# print(\"Testing Report\")\n",
    "\n",
    "# dbn.report(testx,testy)"
   ]
  },
  {
   "cell_type": "code",
   "execution_count": 10,
   "metadata": {},
   "outputs": [],
   "source": [
    "import numpy as np\n",
    "\n",
    "#np.random.seed(1337)  # for reproducibility\n",
    "from sklearn.datasets import load_digits\n",
    "from sklearn.model_selection import train_test_split\n",
    "from sklearn.metrics.classification import accuracy_score\n",
    "from sklearn.metrics import classification_report\n",
    "\n",
    "from dbn.tensorflow import SupervisedDBNClassification\n",
    "# use \"from dbn import SupervisedDBNClassification\" for computations on CPU with numpy\n",
    "\n",
    "# Loading dataset\n",
    "digits = load_digits()\n",
    "X_temp, Y_temp = digits.data, digits.target"
   ]
  },
  {
   "cell_type": "code",
   "execution_count": null,
   "metadata": {},
   "outputs": [],
   "source": []
  },
  {
   "cell_type": "code",
   "execution_count": 40,
   "metadata": {},
   "outputs": [
    {
     "name": "stdout",
     "output_type": "stream",
     "text": [
      "[START] Pre-training step:\n",
      ">> Epoch 1 finished \tRBM Reconstruction error 0.234786\n",
      ">> Epoch 2 finished \tRBM Reconstruction error 0.231538\n",
      ">> Epoch 3 finished \tRBM Reconstruction error 0.231052\n",
      ">> Epoch 4 finished \tRBM Reconstruction error 0.224307\n",
      ">> Epoch 5 finished \tRBM Reconstruction error 0.215331\n",
      ">> Epoch 6 finished \tRBM Reconstruction error 0.204542\n",
      ">> Epoch 7 finished \tRBM Reconstruction error 0.193122\n",
      ">> Epoch 8 finished \tRBM Reconstruction error 0.183435\n",
      ">> Epoch 9 finished \tRBM Reconstruction error 0.179192\n",
      ">> Epoch 10 finished \tRBM Reconstruction error 0.172338\n",
      ">> Epoch 11 finished \tRBM Reconstruction error 0.176281\n",
      ">> Epoch 12 finished \tRBM Reconstruction error 0.170130\n",
      ">> Epoch 13 finished \tRBM Reconstruction error 0.168539\n",
      ">> Epoch 14 finished \tRBM Reconstruction error 0.170475\n",
      ">> Epoch 15 finished \tRBM Reconstruction error 0.170249\n",
      ">> Epoch 16 finished \tRBM Reconstruction error 0.169438\n",
      ">> Epoch 17 finished \tRBM Reconstruction error 0.169756\n",
      ">> Epoch 18 finished \tRBM Reconstruction error 0.170059\n",
      ">> Epoch 19 finished \tRBM Reconstruction error 0.174630\n",
      ">> Epoch 20 finished \tRBM Reconstruction error 0.172960\n",
      ">> Epoch 1 finished \tRBM Reconstruction error 0.042819\n",
      ">> Epoch 2 finished \tRBM Reconstruction error 0.042203\n",
      ">> Epoch 3 finished \tRBM Reconstruction error 0.039843\n",
      ">> Epoch 4 finished \tRBM Reconstruction error 0.038887\n",
      ">> Epoch 5 finished \tRBM Reconstruction error 0.040003\n",
      ">> Epoch 6 finished \tRBM Reconstruction error 0.038781\n",
      ">> Epoch 7 finished \tRBM Reconstruction error 0.036198\n",
      ">> Epoch 8 finished \tRBM Reconstruction error 0.038006\n",
      ">> Epoch 9 finished \tRBM Reconstruction error 0.043606\n",
      ">> Epoch 10 finished \tRBM Reconstruction error 0.039119\n",
      ">> Epoch 11 finished \tRBM Reconstruction error 0.044357\n",
      ">> Epoch 12 finished \tRBM Reconstruction error 0.050378\n",
      ">> Epoch 13 finished \tRBM Reconstruction error 0.040541\n",
      ">> Epoch 14 finished \tRBM Reconstruction error 0.043422\n",
      ">> Epoch 15 finished \tRBM Reconstruction error 0.044968\n",
      ">> Epoch 16 finished \tRBM Reconstruction error 0.039310\n",
      ">> Epoch 17 finished \tRBM Reconstruction error 0.050775\n",
      ">> Epoch 18 finished \tRBM Reconstruction error 0.047196\n",
      ">> Epoch 19 finished \tRBM Reconstruction error 0.047005\n",
      ">> Epoch 20 finished \tRBM Reconstruction error 0.041945\n",
      "[END] Pre-training step\n",
      "[START] Fine tuning step:\n",
      ">> Epoch 0 finished \tANN training loss 1.045399\n",
      ">> Epoch 1 finished \tANN training loss 1.043206\n",
      ">> Epoch 2 finished \tANN training loss 1.034602\n",
      ">> Epoch 3 finished \tANN training loss 1.022351\n",
      ">> Epoch 4 finished \tANN training loss 1.002974\n",
      ">> Epoch 5 finished \tANN training loss 0.972746\n",
      ">> Epoch 6 finished \tANN training loss 0.936651\n",
      ">> Epoch 7 finished \tANN training loss 0.909542\n",
      ">> Epoch 8 finished \tANN training loss 0.879065\n",
      ">> Epoch 9 finished \tANN training loss 0.854195\n",
      ">> Epoch 10 finished \tANN training loss 0.848366\n",
      ">> Epoch 11 finished \tANN training loss 0.833927\n",
      ">> Epoch 12 finished \tANN training loss 0.808479\n",
      ">> Epoch 13 finished \tANN training loss 0.793845\n",
      ">> Epoch 14 finished \tANN training loss 0.783932\n",
      ">> Epoch 15 finished \tANN training loss 0.848312\n",
      ">> Epoch 16 finished \tANN training loss 0.799147\n",
      ">> Epoch 17 finished \tANN training loss 0.731839\n",
      ">> Epoch 18 finished \tANN training loss 0.731855\n",
      ">> Epoch 19 finished \tANN training loss 0.731784\n",
      ">> Epoch 20 finished \tANN training loss 0.808612\n",
      ">> Epoch 21 finished \tANN training loss 0.699386\n",
      ">> Epoch 22 finished \tANN training loss 0.694260\n",
      ">> Epoch 23 finished \tANN training loss 0.656952\n",
      ">> Epoch 24 finished \tANN training loss 0.648647\n",
      ">> Epoch 25 finished \tANN training loss 0.641830\n",
      ">> Epoch 26 finished \tANN training loss 0.682734\n",
      ">> Epoch 27 finished \tANN training loss 0.629220\n",
      ">> Epoch 28 finished \tANN training loss 1.260169\n",
      ">> Epoch 29 finished \tANN training loss 0.836853\n",
      ">> Epoch 30 finished \tANN training loss 0.625834\n",
      ">> Epoch 31 finished \tANN training loss 0.602778\n",
      ">> Epoch 32 finished \tANN training loss 0.601395\n",
      ">> Epoch 33 finished \tANN training loss 0.600103\n",
      ">> Epoch 34 finished \tANN training loss 0.599356\n",
      ">> Epoch 35 finished \tANN training loss 0.592529\n",
      ">> Epoch 36 finished \tANN training loss 0.592397\n",
      ">> Epoch 37 finished \tANN training loss 0.586344\n",
      ">> Epoch 38 finished \tANN training loss 0.575918\n",
      ">> Epoch 39 finished \tANN training loss 0.579260\n",
      ">> Epoch 40 finished \tANN training loss 0.724775\n",
      ">> Epoch 41 finished \tANN training loss 0.775608\n",
      ">> Epoch 42 finished \tANN training loss 0.678391\n",
      ">> Epoch 43 finished \tANN training loss 0.704685\n",
      ">> Epoch 44 finished \tANN training loss 0.572145\n",
      ">> Epoch 45 finished \tANN training loss 0.600637\n",
      ">> Epoch 46 finished \tANN training loss 0.568356\n",
      ">> Epoch 47 finished \tANN training loss 0.623554\n",
      ">> Epoch 48 finished \tANN training loss 0.613674\n",
      ">> Epoch 49 finished \tANN training loss 0.555611\n",
      "[END] Fine tuning step\n",
      "Done.\n",
      "Accuracy: 0.734426\n"
     ]
    }
   ],
   "source": [
    "# Data scaling\n",
    "X_temp = (X_temp / 16).astype(np.float32)\n",
    "X = (X/256).astype('float32')\n",
    "\n",
    "# Splitting data\n",
    "X_train, X_test, Y_train, Y_test = train_test_split(X, Y, test_size=0.2, random_state=0)\n",
    "\n",
    "# Training\n",
    "classifier = SupervisedDBNClassification(hidden_layers_structure=[256, 256],\n",
    "                                         learning_rate_rbm=0.1,\n",
    "                                         learning_rate=0.1,\n",
    "                                         n_epochs_rbm=20,\n",
    "                                         n_iter_backprop=50,\n",
    "                                         batch_size=64,\n",
    "                                         activation_function='relu',\n",
    "                                         dropout_p=0.2)\n",
    "classifier.fit(X_train, Y_train)\n",
    "\n",
    "# Save the model\n",
    "classifier.save('model.pkl')\n",
    "\n",
    "# Restore it\n",
    "classifier = SupervisedDBNClassification.load('model.pkl')\n",
    "\n",
    "# Test\n",
    "Y_pred = classifier.predict(X_test)\n",
    "print('Done.\\nAccuracy: %f' % accuracy_score(Y_test, Y_pred))"
   ]
  },
  {
   "cell_type": "code",
   "execution_count": 41,
   "metadata": {},
   "outputs": [
    {
     "name": "stdout",
     "output_type": "stream",
     "text": [
      "              precision    recall  f1-score   support\n",
      "\n",
      "         0.0       0.35      0.05      0.09       142\n",
      "         1.0       0.68      0.94      0.79       278\n",
      "         2.0       0.88      0.95      0.91       190\n",
      "\n",
      "   micro avg       0.73      0.73      0.73       610\n",
      "   macro avg       0.64      0.65      0.60       610\n",
      "weighted avg       0.66      0.73      0.66       610\n",
      "\n"
     ]
    }
   ],
   "source": [
    "print(classification_report(Y_test,Y_pred))"
   ]
  },
  {
   "cell_type": "code",
   "execution_count": 13,
   "metadata": {},
   "outputs": [],
   "source": [
    "import matplotlib.pyplot as plt\n",
    "#%matplotlib inline\n",
    "#plt.rcParams['image.cmap'] = 'gray'\n",
    "img = plt.imread('C://Users//Ron//Desktop//ML_proj/test_img.jpg')"
   ]
  },
  {
   "cell_type": "code",
   "execution_count": 18,
   "metadata": {},
   "outputs": [
    {
     "data": {
      "text/plain": [
       "<matplotlib.image.AxesImage at 0x1564ac44208>"
      ]
     },
     "execution_count": 18,
     "metadata": {},
     "output_type": "execute_result"
    },
    {
     "data": {
      "image/png": "[encoded data removed]",
      "text/plain": [
       "<Figure size 432x288 with 1 Axes>"
      ]
     },
     "metadata": {
      "needs_background": "light"
     },
     "output_type": "display_data"
    }
   ],
   "source": [
    "plt.imshow(X_temp[0].reshape(8,8))"
   ]
  },
  {
   "cell_type": "code",
   "execution_count": 39,
   "metadata": {},
   "outputs": [
    {
     "data": {
      "text/plain": [
       "(64,)"
      ]
     },
     "execution_count": 39,
     "metadata": {},
     "output_type": "execute_result"
    }
   ],
   "source": []
  },
  {
   "cell_type": "code",
   "execution_count": null,
   "metadata": {},
   "outputs": [],
   "source": []
  },
  {
   "cell_type": "code",
   "execution_count": null,
   "metadata": {},
   "outputs": [],
   "source": []
  },
  {
   "cell_type": "code",
   "execution_count": null,
   "metadata": {},
   "outputs": [],
   "source": []
  },
  {
   "cell_type": "code",
   "execution_count": 14,
   "metadata": {},
   "outputs": [
    {
     "data": {
      "text/plain": [
       "<matplotlib.image.AxesImage at 0x15645fe4ef0>"
      ]
     },
     "execution_count": 14,
     "metadata": {},
     "output_type": "execute_result"
    },
    {
     "data": {
      "image/png": "[encoded data removed]",
      "text/plain": [
       "<Figure size 432x288 with 1 Axes>"
      ]
     },
     "metadata": {
      "needs_background": "light"
     },
     "output_type": "display_data"
    }
   ],
   "source": [
    "#plt.imshow(X_temp[0].reshape(8,8))\n",
    "plt.imshow(img)"
   ]
  },
  {
   "cell_type": "code",
   "execution_count": 15,
   "metadata": {
    "scrolled": true
   },
   "outputs": [
    {
     "name": "stdout",
     "output_type": "stream",
     "text": [
      "WARNING:tensorflow:From <ipython-input-15-0fa25ec7835f>:4: read_data_sets (from tensorflow.contrib.learn.python.learn.datasets.mnist) is deprecated and will be removed in a future version.\n",
      "Instructions for updating:\n",
      "Please use alternatives such as official/mnist/dataset.py from tensorflow/models.\n",
      "WARNING:tensorflow:From C:\\Users\\Ron\\Anaconda3\\lib\\site-packages\\tensorflow\\contrib\\learn\\python\\learn\\datasets\\mnist.py:260: maybe_download (from tensorflow.contrib.learn.python.learn.datasets.base) is deprecated and will be removed in a future version.\n",
      "Instructions for updating:\n",
      "Please write your own downloading logic.\n",
      "WARNING:tensorflow:From C:\\Users\\Ron\\Anaconda3\\lib\\site-packages\\tensorflow\\contrib\\learn\\python\\learn\\datasets\\mnist.py:262: extract_images (from tensorflow.contrib.learn.python.learn.datasets.mnist) is deprecated and will be removed in a future version.\n",
      "Instructions for updating:\n",
      "Please use tf.data to implement this functionality.\n",
      "Extracting MNIST_data\\train-images-idx3-ubyte.gz\n",
      "WARNING:tensorflow:From C:\\Users\\Ron\\Anaconda3\\lib\\site-packages\\tensorflow\\contrib\\learn\\python\\learn\\datasets\\mnist.py:267: extract_labels (from tensorflow.contrib.learn.python.learn.datasets.mnist) is deprecated and will be removed in a future version.\n",
      "Instructions for updating:\n",
      "Please use tf.data to implement this functionality.\n",
      "Extracting MNIST_data\\train-labels-idx1-ubyte.gz\n",
      "WARNING:tensorflow:From C:\\Users\\Ron\\Anaconda3\\lib\\site-packages\\tensorflow\\contrib\\learn\\python\\learn\\datasets\\mnist.py:110: dense_to_one_hot (from tensorflow.contrib.learn.python.learn.datasets.mnist) is deprecated and will be removed in a future version.\n",
      "Instructions for updating:\n",
      "Please use tf.one_hot on tensors.\n",
      "Extracting MNIST_data\\t10k-images-idx3-ubyte.gz\n",
      "Extracting MNIST_data\\t10k-labels-idx1-ubyte.gz\n",
      "WARNING:tensorflow:From C:\\Users\\Ron\\Anaconda3\\lib\\site-packages\\tensorflow\\contrib\\learn\\python\\learn\\datasets\\mnist.py:290: DataSet.__init__ (from tensorflow.contrib.learn.python.learn.datasets.mnist) is deprecated and will be removed in a future version.\n",
      "Instructions for updating:\n",
      "Please use alternatives such as official/mnist/dataset.py from tensorflow/models.\n"
     ]
    },
    {
     "data": {
      "image/png": "[encoded data removed]",
      "text/plain": [
       "<Figure size 432x288 with 1 Axes>"
      ]
     },
     "metadata": {
      "needs_background": "light"
     },
     "output_type": "display_data"
    },
    {
     "data": {
      "image/png": "[encoded data removed]",
      "text/plain": [
       "<Figure size 432x288 with 1 Axes>"
      ]
     },
     "metadata": {
      "needs_background": "light"
     },
     "output_type": "display_data"
    }
   ],
   "source": [
    "from matplotlib import pyplot as plt\n",
    "import numpy as np\n",
    "from tensorflow.examples.tutorials.mnist import input_data\n",
    "mnist = input_data.read_data_sets('MNIST_data', one_hot = True)\n",
    "def gen_image(arr):\n",
    "    two_d = (np.reshape(arr, (28, 28)) * 255).astype(np.uint8)\n",
    "    plt.imshow(two_d, interpolation='nearest')\n",
    "    return plt\n",
    "\n",
    "# Get a batch of two random images and show in a pop-up window.\n",
    "batch_xs, batch_ys = mnist.test.next_batch(2)\n",
    "gen_image(batch_xs[0]).show()\n",
    "gen_image(batch_xs[1]).show()"
   ]
  },
  {
   "cell_type": "code",
   "execution_count": 16,
   "metadata": {},
   "outputs": [
    {
     "data": {
      "text/plain": [
       "'C:\\\\Users\\\\Ron\\\\Anaconda3\\\\lib\\\\site-packages\\\\matplotlib\\\\mpl-data\\\\matplotlibrc'"
      ]
     },
     "execution_count": 16,
     "metadata": {},
     "output_type": "execute_result"
    }
   ],
   "source": [
    "import matplotlib\n",
    "matplotlib.matplotlib_fname()"
   ]
  },
  {
   "cell_type": "code",
   "execution_count": null,
   "metadata": {},
   "outputs": [],
   "source": []
  }
 ],
 "metadata": {
  "kernelspec": {
   "display_name": "Python 3",
   "language": "python",
   "name": "python3"
  },
  "language_info": {
   "codemirror_mode": {
    "name": "ipython",
    "version": 3
   },
   "file_extension": ".py",
   "mimetype": "text/x-python",
   "name": "python",
   "nbconvert_exporter": "python",
   "pygments_lexer": "ipython3",
   "version": "3.7.4"
  }
 },
 "nbformat": 4,
 "nbformat_minor": 2
}
