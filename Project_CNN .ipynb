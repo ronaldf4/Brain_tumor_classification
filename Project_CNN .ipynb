{
 "cells": [
  {
   "cell_type": "code",
   "execution_count": 1,
   "metadata": {},
   "outputs": [],
   "source": [
    "'''Package imports'''\n",
    "import time\n",
    "import numpy as np\n",
    "import h5py\n",
    "import matplotlib.pyplot as plt\n",
    "import scipy\n",
    "from PIL import Image\n",
    "from scipy import ndimage\n",
    "import glob\n",
    "import os\n",
    "#import train_test_split"
   ]
  },
  {
   "cell_type": "code",
   "execution_count": 2,
   "metadata": {},
   "outputs": [],
   "source": [
    "# plt.rcParams['figure.figsize'] = (5.0, 4.0) # set default size of plots\n",
    "# plt.rcParams['image.interpolation'] = 'nearest'\n",
    "# plt.rcParams['image.cmap'] = 'gray'\n",
    "\n"
   ]
  },
  {
   "cell_type": "code",
   "execution_count": 3,
   "metadata": {},
   "outputs": [],
   "source": [
    "'''Note: Insert the directory where .mat data exists'''\n",
    "#os.chdir('C://Users//Ron//Desktop//ML_proj/Brain_cancer/data')\n",
    "#os.chdri('') #Insert the data directory on your local machine\n",
    "files=glob.glob('*.mat')"
   ]
  },
  {
   "cell_type": "code",
   "execution_count": 4,
   "metadata": {},
   "outputs": [],
   "source": [
    "#files\n"
   ]
  },
  {
   "cell_type": "code",
   "execution_count": 5,
   "metadata": {},
   "outputs": [],
   "source": [
    "# X=np.zeros((80,512,512))\n",
    "# Y=np.zeros((80,1))"
   ]
  },
  {
   "cell_type": "code",
   "execution_count": null,
   "metadata": {},
   "outputs": [],
   "source": []
  },
  {
   "cell_type": "code",
   "execution_count": 6,
   "metadata": {},
   "outputs": [],
   "source": [
    "# count = 0\n",
    "# for file in files:\n",
    "#     with h5py.File(file,'r') as f:\n",
    "#         variables=f.items()\n",
    "#         #print(len(variables))\n",
    "#         #print(type(variables))\n",
    "#         for var in variables:\n",
    "#             name= var[0]\n",
    "#             data=var[1]\n",
    "#             #print(name)\n",
    "#             #print(np.array(data['tumorMask']))\n",
    "#             #X.append(np.array(data['tumorMask']))\n",
    "#             #Y.append(data['label'].value.flatten())\n",
    "#         #print(np.array(data['tumorMask']).shape)\n",
    "#         X[count] = np.array(data['tumorMask'])\n",
    "#         Y[count] = np.array(data['label'])\n",
    "#         count = count + 1"
   ]
  },
  {
   "cell_type": "code",
   "execution_count": 7,
   "metadata": {},
   "outputs": [],
   "source": [
    "'''Initial data extraction from matlab dictionary'''\n",
    "import cv2 \n",
    "X=[]\n",
    "Y=[]\n",
    "Z=[]\n",
    "count=0\n",
    "#a = 1\n",
    "for file in files:\n",
    "    with h5py.File(file,'r') as f:\n",
    "        variables=f.items()\n",
    "        for var in variables:\n",
    "            name= var[0]\n",
    "            data=var[1]\n",
    "            if (np.array(data['tumorMask']).shape[1] == 256):\n",
    "                count+=1\n",
    "                #print \n",
    "                (count)\n",
    "            else:\n",
    "                d=data['image']\n",
    "                X.append(cv2.resize(np.array(d),dsize=(64,64),interpolation=cv2.INTER_AREA))\n",
    "                #X.append(np.array(d))\n",
    "                #X.append(np.array(data['tumorMask']))\n",
    "                Y.append(data['label'][0][0])\n",
    "                #a = data['label'][0][0]\n",
    "                \n"
   ]
  },
  {
   "cell_type": "code",
   "execution_count": 8,
   "metadata": {},
   "outputs": [],
   "source": [
    "# Z=np.array(Z)"
   ]
  },
  {
   "cell_type": "code",
   "execution_count": 9,
   "metadata": {
    "scrolled": false
   },
   "outputs": [],
   "source": [
    "# plt.imshow(Z[1])"
   ]
  },
  {
   "cell_type": "code",
   "execution_count": 10,
   "metadata": {},
   "outputs": [],
   "source": [
    "Y = np.array(Y)"
   ]
  },
  {
   "cell_type": "code",
   "execution_count": 11,
   "metadata": {},
   "outputs": [],
   "source": [
    "Y = Y - 1"
   ]
  },
  {
   "cell_type": "code",
   "execution_count": 12,
   "metadata": {},
   "outputs": [
    {
     "data": {
      "text/plain": [
       "(3049, 64, 64)"
      ]
     },
     "execution_count": 12,
     "metadata": {},
     "output_type": "execute_result"
    }
   ],
   "source": [
    "np.array(X).shape"
   ]
  },
  {
   "cell_type": "code",
   "execution_count": 13,
   "metadata": {},
   "outputs": [
    {
     "data": {
      "text/plain": [
       "<matplotlib.image.AxesImage at 0x1d44a8c5518>"
      ]
     },
     "execution_count": 13,
     "metadata": {},
     "output_type": "execute_result"
    },
    {
     "data": {
      "image/png": "[encoded data removed]",
      "text/plain": [
       "<Figure size 432x288 with 1 Axes>"
      ]
     },
     "metadata": {
      "needs_background": "light"
     },
     "output_type": "display_data"
    }
   ],
   "source": [
    "'''Sample Image'''\n",
    "#plt.imshow(X[0])"
   ]
  },
  {
   "cell_type": "code",
   "execution_count": null,
   "metadata": {},
   "outputs": [],
   "source": []
  },
  {
   "cell_type": "code",
   "execution_count": null,
   "metadata": {},
   "outputs": [],
   "source": []
  },
  {
   "cell_type": "code",
   "execution_count": 14,
   "metadata": {},
   "outputs": [
    {
     "name": "stderr",
     "output_type": "stream",
     "text": [
      "Using TensorFlow backend.\n"
     ]
    }
   ],
   "source": [
    "'''Converting Classes to categories'''\n",
    "from keras.utils import to_categorical\n",
    "\n",
    "Y = to_categorical(Y)\n",
    "\n"
   ]
  },
  {
   "cell_type": "code",
   "execution_count": 15,
   "metadata": {},
   "outputs": [
    {
     "data": {
      "text/plain": [
       "array([[1., 0., 0.],\n",
       "       [1., 0., 0.],\n",
       "       [1., 0., 0.],\n",
       "       ...,\n",
       "       [0., 0., 1.],\n",
       "       [0., 0., 1.],\n",
       "       [0., 0., 1.]], dtype=float32)"
      ]
     },
     "execution_count": 15,
     "metadata": {},
     "output_type": "execute_result"
    }
   ],
   "source": [
    "Y"
   ]
  },
  {
   "cell_type": "code",
   "execution_count": 16,
   "metadata": {},
   "outputs": [],
   "source": [
    "'''Data splitting'''\n",
    "from sklearn.model_selection import train_test_split\n",
    "X_train,X_test,Y_train,Y_test=train_test_split(X,Y,test_size=0.25)"
   ]
  },
  {
   "cell_type": "code",
   "execution_count": 17,
   "metadata": {},
   "outputs": [
    {
     "data": {
      "text/plain": [
       "((2286, 64, 64, 1), (763, 64, 64, 1))"
      ]
     },
     "execution_count": 17,
     "metadata": {},
     "output_type": "execute_result"
    }
   ],
   "source": [
    "'''Pre-Processing'''\n",
    "X_train = np.array(X_train).reshape(-1,64,64, 1)\n",
    "X_test = np.array(X_test).reshape(-1,64,64, 1)\n",
    "X_train.shape, X_test.shape"
   ]
  },
  {
   "cell_type": "code",
   "execution_count": 18,
   "metadata": {},
   "outputs": [],
   "source": [
    "X_train = X_train.astype('float32')\n",
    "X_test = X_test.astype('float32')\n",
    "X_train = X_train / 255.\n",
    "X_test = X_test / 255."
   ]
  },
  {
   "cell_type": "code",
   "execution_count": 19,
   "metadata": {},
   "outputs": [
    {
     "data": {
      "text/plain": [
       "(2286, 3)"
      ]
     },
     "execution_count": 19,
     "metadata": {},
     "output_type": "execute_result"
    }
   ],
   "source": [
    "Y_train.shape"
   ]
  },
  {
   "cell_type": "code",
   "execution_count": null,
   "metadata": {},
   "outputs": [],
   "source": []
  },
  {
   "cell_type": "code",
   "execution_count": 20,
   "metadata": {},
   "outputs": [],
   "source": [
    "# import os\n",
    "# os.environ[\"CUDA_DEVICE_ORDER\"]=\"PCI_BUS_ID\"\n",
    "# os.environ[\"CUDA_VISIBLE_DEVICES\"]=\"0\""
   ]
  },
  {
   "cell_type": "code",
   "execution_count": 21,
   "metadata": {},
   "outputs": [],
   "source": [
    "'''Creating a Layered Architecture'''\n",
    "from keras.models import Sequential\n",
    "batch_size = 64\n",
    "epochs = 50\n",
    "num_classes = 3"
   ]
  },
  {
   "cell_type": "code",
   "execution_count": 22,
   "metadata": {},
   "outputs": [],
   "source": [
    "import keras\n",
    "from keras.models import Sequential,Input,Model\n",
    "from keras.layers import Dense, Dropout, Flatten\n",
    "from keras.layers import Conv2D, MaxPooling2D\n",
    "from keras.layers.normalization import BatchNormalization\n",
    "from keras.layers.advanced_activations import LeakyReLU"
   ]
  },
  {
   "cell_type": "code",
   "execution_count": 23,
   "metadata": {},
   "outputs": [
    {
     "name": "stdout",
     "output_type": "stream",
     "text": [
      "WARNING:tensorflow:From C:\\Users\\Ron\\Anaconda3\\lib\\site-packages\\tensorflow\\python\\framework\\op_def_library.py:263: colocate_with (from tensorflow.python.framework.ops) is deprecated and will be removed in a future version.\n",
      "Instructions for updating:\n",
      "Colocations handled automatically by placer.\n"
     ]
    }
   ],
   "source": [
    "fashion_model = Sequential()\n",
    "fashion_model.add(Conv2D(32, kernel_size=(3, 3),activation='linear',input_shape=(64,64,1),padding='same'))\n",
    "#fashion_model.add(LeakyReLU(alpha=0.1))\n",
    "fashion_model.add(MaxPooling2D((2, 2),padding='same'))\n",
    "fashion_model.add(Conv2D(32, (3, 3), activation='relu',padding='same'))\n",
    "#fashion_model.add(LeakyReLU(alpha=0.1))\n",
    "fashion_model.add(MaxPooling2D(pool_size=(2, 2),padding='same'))\n",
    "fashion_model.add(Conv2D(32, (3, 3), activation='relu',padding='same'))\n",
    "#fashion_model.add(LeakyReLU(alpha=0.1))                  \n",
    "fashion_model.add(MaxPooling2D(pool_size=(2, 2),padding='same'))\n",
    "fashion_model.add(Conv2D(64, (3, 3), activation='relu',padding='same'))\n",
    "#fashion_model.add(LeakyReLU(alpha=0.1))                  \n",
    "fashion_model.add(MaxPooling2D(pool_size=(2, 2),padding='same'))\n",
    "fashion_model.add(Conv2D(64, (3, 3), activation='relu',padding='same'))\n",
    "#fashion_model.add(LeakyReLU(alpha=0.1))                  \n",
    "fashion_model.add(MaxPooling2D(pool_size=(2, 2),padding='same'))\n",
    "fashion_model.add(Conv2D(64, (3, 3), activation='relu',padding='same'))\n",
    "#fashion_model.add(LeakyReLU(alpha=0.1))                  \n",
    "fashion_model.add(MaxPooling2D(pool_size=(2, 2),padding='same'))\n",
    "fashion_model.add(Conv2D(128, (3, 3), activation='relu',padding='same'))\n",
    "#fashion_model.add(LeakyReLU(alpha=0.1))                  \n",
    "fashion_model.add(MaxPooling2D(pool_size=(2, 2),padding='same'))\n",
    "fashion_model.add(Conv2D(128, (3, 3), activation='relu',padding='same'))\n",
    "#fashion_model.add(LeakyReLU(alpha=0.1))                  \n",
    "fashion_model.add(MaxPooling2D(pool_size=(2, 2),padding='same'))\n",
    "fashion_model.add(Conv2D(128, (3, 3), activation='relu',padding='same'))\n",
    "#fashion_model.add(LeakyReLU(alpha=0.1))                  \n",
    "fashion_model.add(MaxPooling2D(pool_size=(2, 2),padding='same'))\n",
    "# fashion_model.add(Conv2D(64, (3, 3), activation='linear',padding='same'))\n",
    "# fashion_model.add(LeakyReLU(alpha=0.1))                  \n",
    "# fashion_model.add(MaxPooling2D(pool_size=(2, 2),padding='same'))\n",
    "fashion_model.add(Flatten())\n",
    "fashion_model.add(Dense(128, activation='relu'))\n",
    "#fashion_model.add(LeakyReLU(alpha=0.1))                  \n",
    "fashion_model.add(Dense(3, activation='softmax'))"
   ]
  },
  {
   "cell_type": "code",
   "execution_count": 24,
   "metadata": {},
   "outputs": [],
   "source": [
    "fashion_model.compile(loss=keras.losses.categorical_crossentropy, optimizer=keras.optimizers.Adam(),metrics=['accuracy'])"
   ]
  },
  {
   "cell_type": "code",
   "execution_count": 25,
   "metadata": {},
   "outputs": [
    {
     "name": "stdout",
     "output_type": "stream",
     "text": [
      "_________________________________________________________________\n",
      "Layer (type)                 Output Shape              Param #   \n",
      "=================================================================\n",
      "conv2d_1 (Conv2D)            (None, 64, 64, 32)        320       \n",
      "_________________________________________________________________\n",
      "max_pooling2d_1 (MaxPooling2 (None, 32, 32, 32)        0         \n",
      "_________________________________________________________________\n",
      "conv2d_2 (Conv2D)            (None, 32, 32, 32)        9248      \n",
      "_________________________________________________________________\n",
      "max_pooling2d_2 (MaxPooling2 (None, 16, 16, 32)        0         \n",
      "_________________________________________________________________\n",
      "conv2d_3 (Conv2D)            (None, 16, 16, 32)        9248      \n",
      "_________________________________________________________________\n",
      "max_pooling2d_3 (MaxPooling2 (None, 8, 8, 32)          0         \n",
      "_________________________________________________________________\n",
      "conv2d_4 (Conv2D)            (None, 8, 8, 64)          18496     \n",
      "_________________________________________________________________\n",
      "max_pooling2d_4 (MaxPooling2 (None, 4, 4, 64)          0         \n",
      "_________________________________________________________________\n",
      "conv2d_5 (Conv2D)            (None, 4, 4, 64)          36928     \n",
      "_________________________________________________________________\n",
      "max_pooling2d_5 (MaxPooling2 (None, 2, 2, 64)          0         \n",
      "_________________________________________________________________\n",
      "conv2d_6 (Conv2D)            (None, 2, 2, 64)          36928     \n",
      "_________________________________________________________________\n",
      "max_pooling2d_6 (MaxPooling2 (None, 1, 1, 64)          0         \n",
      "_________________________________________________________________\n",
      "conv2d_7 (Conv2D)            (None, 1, 1, 128)         73856     \n",
      "_________________________________________________________________\n",
      "max_pooling2d_7 (MaxPooling2 (None, 1, 1, 128)         0         \n",
      "_________________________________________________________________\n",
      "conv2d_8 (Conv2D)            (None, 1, 1, 128)         147584    \n",
      "_________________________________________________________________\n",
      "max_pooling2d_8 (MaxPooling2 (None, 1, 1, 128)         0         \n",
      "_________________________________________________________________\n",
      "conv2d_9 (Conv2D)            (None, 1, 1, 128)         147584    \n",
      "_________________________________________________________________\n",
      "max_pooling2d_9 (MaxPooling2 (None, 1, 1, 128)         0         \n",
      "_________________________________________________________________\n",
      "flatten_1 (Flatten)          (None, 128)               0         \n",
      "_________________________________________________________________\n",
      "dense_1 (Dense)              (None, 128)               16512     \n",
      "_________________________________________________________________\n",
      "dense_2 (Dense)              (None, 3)                 387       \n",
      "=================================================================\n",
      "Total params: 497,091\n",
      "Trainable params: 497,091\n",
      "Non-trainable params: 0\n",
      "_________________________________________________________________\n"
     ]
    }
   ],
   "source": [
    "fashion_model.summary()"
   ]
  },
  {
   "cell_type": "code",
   "execution_count": 26,
   "metadata": {},
   "outputs": [],
   "source": [
    "callback_early_stopping = keras.callbacks.EarlyStopping(monitor='val_loss', patience=10, verbose=0, mode='auto')"
   ]
  },
  {
   "cell_type": "code",
   "execution_count": 27,
   "metadata": {},
   "outputs": [
    {
     "name": "stdout",
     "output_type": "stream",
     "text": [
      "WARNING:tensorflow:From C:\\Users\\Ron\\Anaconda3\\lib\\site-packages\\tensorflow\\python\\ops\\math_ops.py:3066: to_int32 (from tensorflow.python.ops.math_ops) is deprecated and will be removed in a future version.\n",
      "Instructions for updating:\n",
      "Use tf.cast instead.\n",
      "Train on 1828 samples, validate on 458 samples\n",
      "Epoch 1/50\n",
      "1828/1828 [==============================] - 16s 9ms/step - loss: 0.9977 - acc: 0.4540 - val_loss: 0.9361 - val_acc: 0.4803\n",
      "Epoch 2/50\n",
      "1828/1828 [==============================] - 8s 4ms/step - loss: 0.8985 - acc: 0.6340 - val_loss: 0.7447 - val_acc: 0.6878\n",
      "Epoch 3/50\n",
      "1828/1828 [==============================] - 8s 4ms/step - loss: 0.6675 - acc: 0.7161 - val_loss: 0.5906 - val_acc: 0.7380\n",
      "Epoch 4/50\n",
      "1828/1828 [==============================] - 8s 4ms/step - loss: 0.5540 - acc: 0.7407 - val_loss: 0.5537 - val_acc: 0.7380\n",
      "Epoch 5/50\n",
      "1828/1828 [==============================] - 8s 4ms/step - loss: 0.5040 - acc: 0.7505 - val_loss: 0.5868 - val_acc: 0.7380\n",
      "Epoch 6/50\n",
      "1828/1828 [==============================] - 8s 4ms/step - loss: 0.5181 - acc: 0.7549 - val_loss: 0.5320 - val_acc: 0.7598\n",
      "Epoch 7/50\n",
      "1828/1828 [==============================] - 8s 4ms/step - loss: 0.4889 - acc: 0.7588 - val_loss: 0.4868 - val_acc: 0.7467\n",
      "Epoch 8/50\n",
      "1828/1828 [==============================] - 8s 4ms/step - loss: 0.4403 - acc: 0.7719 - val_loss: 0.4787 - val_acc: 0.7729\n",
      "Epoch 9/50\n",
      "1828/1828 [==============================] - 8s 4ms/step - loss: 0.3999 - acc: 0.7916 - val_loss: 0.4397 - val_acc: 0.7707\n",
      "Epoch 10/50\n",
      "1828/1828 [==============================] - 8s 4ms/step - loss: 0.3605 - acc: 0.8167 - val_loss: 0.4207 - val_acc: 0.8013\n",
      "Epoch 11/50\n",
      "1828/1828 [==============================] - 8s 4ms/step - loss: 0.3191 - acc: 0.8468 - val_loss: 0.4365 - val_acc: 0.7882\n",
      "Epoch 12/50\n",
      "1828/1828 [==============================] - 8s 4ms/step - loss: 0.3121 - acc: 0.8611 - val_loss: 0.4875 - val_acc: 0.8144\n",
      "Epoch 13/50\n",
      "1828/1828 [==============================] - 8s 4ms/step - loss: 0.2892 - acc: 0.8824 - val_loss: 0.5481 - val_acc: 0.7380\n",
      "Epoch 14/50\n",
      "1828/1828 [==============================] - 8s 4ms/step - loss: 0.2347 - acc: 0.8922 - val_loss: 0.3014 - val_acc: 0.8865\n",
      "Epoch 15/50\n",
      "1828/1828 [==============================] - 8s 4ms/step - loss: 0.1742 - acc: 0.9365 - val_loss: 0.3042 - val_acc: 0.8777\n",
      "Epoch 16/50\n",
      "1828/1828 [==============================] - 8s 4ms/step - loss: 0.1379 - acc: 0.9469 - val_loss: 0.2367 - val_acc: 0.9083\n",
      "Epoch 17/50\n",
      "1828/1828 [==============================] - 8s 4ms/step - loss: 0.0991 - acc: 0.9683 - val_loss: 0.2983 - val_acc: 0.9039\n",
      "Epoch 18/50\n",
      "1828/1828 [==============================] - 8s 4ms/step - loss: 0.1444 - acc: 0.9431 - val_loss: 0.3055 - val_acc: 0.8865\n",
      "Epoch 19/50\n",
      "1828/1828 [==============================] - 8s 4ms/step - loss: 0.0891 - acc: 0.9683 - val_loss: 0.3706 - val_acc: 0.8908\n",
      "Epoch 20/50\n",
      "1828/1828 [==============================] - 8s 5ms/step - loss: 0.0518 - acc: 0.9836 - val_loss: 0.2590 - val_acc: 0.9258\n",
      "Epoch 21/50\n",
      "1828/1828 [==============================] - 8s 4ms/step - loss: 0.0266 - acc: 0.9896 - val_loss: 0.4214 - val_acc: 0.8996\n",
      "Epoch 22/50\n",
      "1828/1828 [==============================] - 8s 4ms/step - loss: 0.0554 - acc: 0.9825 - val_loss: 0.2810 - val_acc: 0.9127\n",
      "Epoch 23/50\n",
      "1828/1828 [==============================] - 8s 4ms/step - loss: 0.0297 - acc: 0.9907 - val_loss: 0.3220 - val_acc: 0.9170\n",
      "Epoch 24/50\n",
      "1828/1828 [==============================] - 8s 4ms/step - loss: 0.0217 - acc: 0.9929 - val_loss: 0.5388 - val_acc: 0.8755\n",
      "Epoch 25/50\n",
      "1828/1828 [==============================] - 8s 4ms/step - loss: 0.0199 - acc: 0.9923 - val_loss: 0.4727 - val_acc: 0.9039\n",
      "Epoch 26/50\n",
      "1828/1828 [==============================] - 8s 4ms/step - loss: 0.0969 - acc: 0.9694 - val_loss: 0.3684 - val_acc: 0.8865\n"
     ]
    }
   ],
   "source": [
    "'''Training'''\n",
    "fashion_train = fashion_model.fit(np.array(X_train), np.array(Y_train),epochs=epochs,batch_size=64,validation_split=0.20,callbacks=[callback_early_stopping])"
   ]
  },
  {
   "cell_type": "code",
   "execution_count": null,
   "metadata": {},
   "outputs": [],
   "source": []
  },
  {
   "cell_type": "code",
   "execution_count": null,
   "metadata": {},
   "outputs": [],
   "source": []
  },
  {
   "cell_type": "code",
   "execution_count": 28,
   "metadata": {},
   "outputs": [
    {
     "name": "stdout",
     "output_type": "stream",
     "text": [
      "763/763 [==============================] - 1s 1ms/step\n"
     ]
    }
   ],
   "source": [
    "Final= fashion_model.evaluate(X_test, Y_test)"
   ]
  },
  {
   "cell_type": "code",
   "execution_count": 29,
   "metadata": {},
   "outputs": [
    {
     "name": "stdout",
     "output_type": "stream",
     "text": [
      "Test loss: 0.32558747743247846\n",
      "Test accuracy: 0.9017038015675576\n"
     ]
    }
   ],
   "source": [
    "print('Test loss:', Final[0])\n",
    "print('Test accuracy:', Final[1])"
   ]
  },
  {
   "cell_type": "code",
   "execution_count": 30,
   "metadata": {},
   "outputs": [],
   "source": [
    "predicted_classes = fashion_model.predict(X_test)"
   ]
  },
  {
   "cell_type": "code",
   "execution_count": 31,
   "metadata": {},
   "outputs": [],
   "source": [
    "predicted_classes = np.argmax(np.round(predicted_classes),axis=1)"
   ]
  },
  {
   "cell_type": "code",
   "execution_count": 32,
   "metadata": {},
   "outputs": [],
   "source": [
    "Y_test = np.argmax(np.round(Y_test),axis=1)"
   ]
  },
  {
   "cell_type": "code",
   "execution_count": 33,
   "metadata": {},
   "outputs": [
    {
     "name": "stdout",
     "output_type": "stream",
     "text": [
      "              precision    recall  f1-score   support\n",
      "\n",
      "     Class 0       0.82      0.75      0.78       174\n",
      "     Class 1       0.89      0.95      0.92       374\n",
      "     Class 2       0.97      0.94      0.96       215\n",
      "\n",
      "   micro avg       0.90      0.90      0.90       763\n",
      "   macro avg       0.90      0.88      0.89       763\n",
      "weighted avg       0.90      0.90      0.90       763\n",
      "\n"
     ]
    }
   ],
   "source": [
    "'''Evaluation'''\n",
    "\n",
    "from sklearn.metrics import classification_report\n",
    "target_names = [\"Class {}\".format(i) for i in range(3)]\n",
    "print(classification_report(Y_test, predicted_classes, target_names=target_names))"
   ]
  },
  {
   "cell_type": "code",
   "execution_count": null,
   "metadata": {},
   "outputs": [],
   "source": []
  },
  {
   "cell_type": "code",
   "execution_count": null,
   "metadata": {},
   "outputs": [],
   "source": []
  },
  {
   "cell_type": "code",
   "execution_count": null,
   "metadata": {},
   "outputs": [],
   "source": []
  }
 ],
 "metadata": {
  "kernelspec": {
   "display_name": "Python 3",
   "language": "python",
   "name": "python3"
  },
  "language_info": {
   "codemirror_mode": {
    "name": "ipython",
    "version": 3
   },
   "file_extension": ".py",
   "mimetype": "text/x-python",
   "name": "python",
   "nbconvert_exporter": "python",
   "pygments_lexer": "ipython3",
   "version": "3.7.1"
  }
 },
 "nbformat": 4,
 "nbformat_minor": 2
}
