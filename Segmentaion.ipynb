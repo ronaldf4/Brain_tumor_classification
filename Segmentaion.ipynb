{
 "cells": [
  {
   "cell_type": "code",
   "execution_count": 1,
   "metadata": {},
   "outputs": [],
   "source": [
    "'''Importing Packages'''\n",
    "import numpy as np\n",
    "import pandas as pd\n",
    "import matplotlib.pyplot as plt\n",
    "import seaborn as sns\n",
    "import os\n",
    "import cv2\n",
    "#from keras.utils import to_categorical\n",
    "#import xgboost"
   ]
  },
  {
   "cell_type": "code",
   "execution_count": 2,
   "metadata": {},
   "outputs": [],
   "source": [
    "#X = np.load('X.npy')"
   ]
  },
  {
   "cell_type": "code",
   "execution_count": 3,
   "metadata": {},
   "outputs": [],
   "source": [
    "#y = np.load('Y.npy')"
   ]
  },
  {
   "cell_type": "code",
   "execution_count": 4,
   "metadata": {},
   "outputs": [],
   "source": [
    "# X=np.array(X).reshape(-1,64,64, 1)\n",
    "# X = X.astype('float32')\n",
    "# X = X / 255."
   ]
  },
  {
   "cell_type": "code",
   "execution_count": 5,
   "metadata": {},
   "outputs": [],
   "source": [
    "# img = cv2.imread('water_coins.jpg')\n",
    "# gray = cv2.cvtColor(img,cv2.COLOR_BGR2GRAY)\n",
    "# ret, thresh = cv2.threshold(gray,0,255,cv2.THRESH_BINARY_INV+cv2.THRESH_OTSU)"
   ]
  },
  {
   "cell_type": "code",
   "execution_count": null,
   "metadata": {},
   "outputs": [],
   "source": []
  },
  {
   "cell_type": "code",
   "execution_count": 6,
   "metadata": {},
   "outputs": [],
   "source": [
    "'''Importing Files'''\n",
    "import os \n",
    "import glob\n",
    "os.chdir('C:\\\\Users\\\\Ron\\\\Desktop\\\\ML_proj\\\\Brain_cancer\\\\data')\n",
    "files=glob.glob('*.mat')"
   ]
  },
  {
   "cell_type": "code",
   "execution_count": 7,
   "metadata": {},
   "outputs": [],
   "source": [
    "'''Reading .mat files and extracting numpy arrays of images'''\n",
    "import h5py\n",
    "import cv2 \n",
    "X=[]\n",
    "X_res = []\n",
    "mask = []\n",
    "Y=[]\n",
    "data=[]\n",
    "count=0\n",
    "#a = 1\n",
    "for file in files:\n",
    "    with h5py.File(file,'r') as f:\n",
    "        variables=f.items()\n",
    "        for var in variables:\n",
    "            name= var[0]\n",
    "            data=var[1]\n",
    "            if (np.array(data['image']).shape[1] == 256):\n",
    "                count+=1\n",
    "                #print \n",
    "                (count)\n",
    "            else:\n",
    "                d=data['image']\n",
    "                m = data['tumorMask']\n",
    "                X_res.append(cv2.resize(np.array(d),dsize=(64,64),interpolation=cv2.INTER_AREA))\n",
    "                mask.append(np.array(m))\n",
    "                X.append(np.array(d))\n",
    "                #X.append(np.array(data['tumorMask']))\n",
    "                Y.append(data['label'][0][0])\n",
    "                \n",
    "                #a = data['label'][0][0]\n",
    "                "
   ]
  },
  {
   "cell_type": "code",
   "execution_count": 8,
   "metadata": {},
   "outputs": [],
   "source": [
    "'''Image Pre-processing'''\n",
    "X = np.array(X)\n",
    "X_res = np.array(X_res)\n",
    "mask = np.array(mask)"
   ]
  },
  {
   "cell_type": "code",
   "execution_count": 9,
   "metadata": {},
   "outputs": [],
   "source": [
    "a = X.astype(np.uint16)\n",
    "a_res = X_res.astype(np.uint16)\n",
    "#a_mask = mask.astype(np.uint16)"
   ]
  },
  {
   "cell_type": "code",
   "execution_count": 10,
   "metadata": {},
   "outputs": [],
   "source": [
    "# temp = (X[0]-X.min())/(X.max()-X.min())\n",
    "# temp.dtype"
   ]
  },
  {
   "cell_type": "code",
   "execution_count": 11,
   "metadata": {},
   "outputs": [],
   "source": [
    "'''Sample data'''\n",
    "i = a[1]\n",
    "b = (i/256).astype(np.uint8)\n",
    "\n",
    "i_res = a_res[1]\n",
    "b_res = (i_res/256).astype(np.uint8)\n",
    "\n",
    "i_mask = mask[1]\n",
    "b_mask = (i_mask/256).astype(np.uint8)"
   ]
  },
  {
   "cell_type": "code",
   "execution_count": 12,
   "metadata": {},
   "outputs": [],
   "source": [
    "#c = (b/255).astype('float')"
   ]
  },
  {
   "cell_type": "code",
   "execution_count": 13,
   "metadata": {},
   "outputs": [],
   "source": [
    "'''Removing Noise'''\n",
    "blur = cv2.GaussianBlur(b, (5, 5),0)\n",
    "blur_res = cv2.GaussianBlur(b_res, (5, 5),0)\n",
    "blur_mask = cv2.GaussianBlur(b_mask, (5, 5),0)"
   ]
  },
  {
   "cell_type": "code",
   "execution_count": 14,
   "metadata": {},
   "outputs": [],
   "source": [
    "from skimage.morphology import watershed\n",
    "import scipy.ndimage as ndimage"
   ]
  },
  {
   "cell_type": "code",
   "execution_count": 15,
   "metadata": {},
   "outputs": [],
   "source": [
    "\"\"\"Setting Thresholds\"\"\"\n",
    "\n",
    "new_data=blur_res\n",
    "ma_data=np.ma.masked_where(new_data<=3,new_data)\n",
    "try_data=ma_data.astype(np.uint8)  \n",
    "\n",
    "## Building threshold\n",
    "tmp_data=ma_data.filled(0)\n",
    "tmp_data[np.where(tmp_data!=0)]=255\n",
    "bw_data=tmp_data.astype(np.uint8)\n",
    "\n",
    "## Building markers\n",
    "ma_conv=np.ma.masked_where(new_data<=5,new_data)\n",
    "tmp_conv=ma_conv.filled(0)\n",
    "tmp_conv[np.where(tmp_conv!=0)]=255\n",
    "bw_conv=tmp_conv.astype(np.uint8)\n",
    "markers = ndimage.label(bw_conv)[0]\n",
    "\n",
    "## Watershed\n",
    "labels = watershed(-try_data, markers, mask=bw_data)"
   ]
  },
  {
   "cell_type": "code",
   "execution_count": 16,
   "metadata": {},
   "outputs": [
    {
     "data": {
      "text/plain": [
       "([], <a list of 0 Text yticklabel objects>)"
      ]
     },
     "execution_count": 16,
     "metadata": {},
     "output_type": "execute_result"
    },
    {
     "data": {
      "image/png": "[encoded data removed]",
      "text/plain": [
       "<Figure size 432x288 with 1 Axes>"
      ]
     },
     "metadata": {},
     "output_type": "display_data"
    }
   ],
   "source": [
    "'''Original Image'''\n",
    "plt.imshow(i_res)\n",
    "plt.xticks([])\n",
    "plt.yticks([])"
   ]
  },
  {
   "cell_type": "code",
   "execution_count": 17,
   "metadata": {},
   "outputs": [
    {
     "data": {
      "text/plain": [
       "([], <a list of 0 Text yticklabel objects>)"
      ]
     },
     "execution_count": 17,
     "metadata": {},
     "output_type": "execute_result"
    },
    {
     "data": {
      "image/png": "[encoded data removed]",
      "text/plain": [
       "<Figure size 432x288 with 1 Axes>"
      ]
     },
     "metadata": {},
     "output_type": "display_data"
    }
   ],
   "source": [
    "'''Original Manual Mask'''\n",
    "plt.imshow(mask[1])\n",
    "plt.xticks([])\n",
    "plt.yticks([])"
   ]
  },
  {
   "cell_type": "code",
   "execution_count": 18,
   "metadata": {},
   "outputs": [
    {
     "data": {
      "text/plain": [
       "([], <a list of 0 Text yticklabel objects>)"
      ]
     },
     "execution_count": 18,
     "metadata": {},
     "output_type": "execute_result"
    },
    {
     "data": {
      "image/png": "[encoded data removed]",
      "text/plain": [
       "<Figure size 432x288 with 1 Axes>"
      ]
     },
     "metadata": {},
     "output_type": "display_data"
    }
   ],
   "source": [
    "'''Extracted Mask'''\n",
    "plt.imshow(labels)\n",
    "plt.xticks([])\n",
    "plt.yticks([])"
   ]
  }
 ],
 "metadata": {
  "kernelspec": {
   "display_name": "Python 3",
   "language": "python",
   "name": "python3"
  },
  "language_info": {
   "codemirror_mode": {
    "name": "ipython",
    "version": 3
   },
   "file_extension": ".py",
   "mimetype": "text/x-python",
   "name": "python",
   "nbconvert_exporter": "python",
   "pygments_lexer": "ipython3",
   "version": "3.7.4"
  }
 },
 "nbformat": 4,
 "nbformat_minor": 2
}
