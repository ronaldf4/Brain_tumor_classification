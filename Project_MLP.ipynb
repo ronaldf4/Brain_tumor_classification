{
 "cells": [
  {
   "cell_type": "code",
   "execution_count": 1,
   "metadata": {},
   "outputs": [],
   "source": [
    "# import os\n",
    "# os.environ[\"CUDA_DEVICE_ORDER\"]=\"PCI_BUS_ID\"\n",
    "# os.environ[\"CUDA_VISIBLE_DEVICES\"]=\"0\" #model will be trained on GPU 0"
   ]
  },
  {
   "cell_type": "code",
   "execution_count": 2,
   "metadata": {},
   "outputs": [],
   "source": [
    "'''Import libraries and files'''\n",
    "import glob\n",
    "import os\n",
    "import numpy as np\n",
    "import pandas as pd\n",
    "from sklearn.model_selection import train_test_split\n",
    "from sklearn.metrics.classification import accuracy_score\n",
    "#os.chdir('C://Users//Ron//Desktop//ML_proj/Brain_cancer/data')\n",
    "'''Insert the .mat files data directory'''\n",
    "#os.chdir('') #Please put the directory in which data is present\n",
    "files=glob.glob('*.mat')"
   ]
  },
  {
   "cell_type": "code",
   "execution_count": 3,
   "metadata": {},
   "outputs": [],
   "source": [
    "'''Initial data extraction from matlab dictionary'''\n",
    "import h5py\n",
    "import cv2 \n",
    "X=[]\n",
    "Y=[]\n",
    "data=[]\n",
    "count=0\n",
    "#a = 1\n",
    "for file in files:\n",
    "    with h5py.File(file,'r') as f:\n",
    "        variables=f.items()\n",
    "        for var in variables:\n",
    "            name= var[0]\n",
    "            data=var[1]\n",
    "            if (np.array(data['tumorMask']).shape[1] == 256):\n",
    "                count+=1\n",
    "                #print \n",
    "                (count)\n",
    "            else:\n",
    "                d=data['image']\n",
    "                #Resizing for performance and computational time\n",
    "                X.append(cv2.resize(np.array(d),dsize=(64,64),interpolation=cv2.INTER_AREA).flatten())\n",
    "\n",
    "                #X.append(np.array(d))\n",
    "                #X.append(np.array(data['tumorMask']))\n",
    "                Y.append(data['label'][0][0])\n",
    "                \n",
    "                #a = data['label'][0][0]\n",
    "                \n"
   ]
  },
  {
   "cell_type": "code",
   "execution_count": 4,
   "metadata": {
    "scrolled": true
   },
   "outputs": [
    {
     "data": {
      "text/plain": [
       "((3049, 4096), (3049,))"
      ]
     },
     "execution_count": 4,
     "metadata": {},
     "output_type": "execute_result"
    }
   ],
   "source": [
    "#np.array(X).shape , np.array(Y).shape"
   ]
  },
  {
   "cell_type": "code",
   "execution_count": 5,
   "metadata": {},
   "outputs": [],
   "source": [
    "# import cv2\n",
    "# width = 64\n",
    "# height = 3049\n",
    "# dim = (width, height)\n",
    " \n",
    "# # resize image\n",
    "# resized = cv2.resize(np.array(X), dim, interpolation = cv2.INTER_AREA)"
   ]
  },
  {
   "cell_type": "code",
   "execution_count": 6,
   "metadata": {},
   "outputs": [],
   "source": [
    "# resized = (np.array(resized) / 16).astype(np.float32)"
   ]
  },
  {
   "cell_type": "code",
   "execution_count": 7,
   "metadata": {},
   "outputs": [],
   "source": [
    "# np.array(X).flatten().shape"
   ]
  },
  {
   "cell_type": "code",
   "execution_count": 8,
   "metadata": {},
   "outputs": [],
   "source": [
    "X = np.array(X)"
   ]
  },
  {
   "cell_type": "code",
   "execution_count": 9,
   "metadata": {},
   "outputs": [
    {
     "name": "stderr",
     "output_type": "stream",
     "text": [
      "Using TensorFlow backend.\n"
     ]
    }
   ],
   "source": [
    "from keras.utils import to_categorical\n",
    "Y=np.array(Y)-1\n",
    "Y = to_categorical(Y)"
   ]
  },
  {
   "cell_type": "code",
   "execution_count": 10,
   "metadata": {},
   "outputs": [],
   "source": [
    "#Splitting the data\n",
    "from sklearn.model_selection import train_test_split\n",
    "x_train, x_valid, y_train, y_valid = train_test_split(X,Y, test_size=0.25, random_state=0)"
   ]
  },
  {
   "cell_type": "code",
   "execution_count": 11,
   "metadata": {},
   "outputs": [
    {
     "name": "stdout",
     "output_type": "stream",
     "text": [
      "WARNING:tensorflow:From C:\\Users\\Ron\\Anaconda3\\lib\\site-packages\\tensorflow\\python\\framework\\op_def_library.py:263: colocate_with (from tensorflow.python.framework.ops) is deprecated and will be removed in a future version.\n",
      "Instructions for updating:\n",
      "Colocations handled automatically by placer.\n",
      "WARNING:tensorflow:From C:\\Users\\Ron\\Anaconda3\\lib\\site-packages\\keras\\backend\\tensorflow_backend.py:3445: calling dropout (from tensorflow.python.ops.nn_ops) with keep_prob is deprecated and will be removed in a future version.\n",
      "Instructions for updating:\n",
      "Please use `rate` instead of `keep_prob`. Rate should be set to `rate = 1 - keep_prob`.\n",
      "_________________________________________________________________\n",
      "Layer (type)                 Output Shape              Param #   \n",
      "=================================================================\n",
      "batch_normalization_1 (Batch (None, 4096)              16384     \n",
      "_________________________________________________________________\n",
      "dense_1 (Dense)              (None, 32)                131104    \n",
      "_________________________________________________________________\n",
      "dropout_1 (Dropout)          (None, 32)                0         \n",
      "_________________________________________________________________\n",
      "batch_normalization_2 (Batch (None, 32)                128       \n",
      "_________________________________________________________________\n",
      "dense_2 (Dense)              (None, 32)                1056      \n",
      "_________________________________________________________________\n",
      "dropout_2 (Dropout)          (None, 32)                0         \n",
      "_________________________________________________________________\n",
      "batch_normalization_3 (Batch (None, 32)                128       \n",
      "_________________________________________________________________\n",
      "dense_3 (Dense)              (None, 32)                1056      \n",
      "_________________________________________________________________\n",
      "dropout_3 (Dropout)          (None, 32)                0         \n",
      "_________________________________________________________________\n",
      "dense_4 (Dense)              (None, 3)                 99        \n",
      "=================================================================\n",
      "Total params: 149,955\n",
      "Trainable params: 141,635\n",
      "Non-trainable params: 8,320\n",
      "_________________________________________________________________\n",
      "None\n"
     ]
    }
   ],
   "source": [
    "'''Creating a multilayer perceptron layered network'''\n",
    "import keras\n",
    "#Sequential model\n",
    "model = keras.models.Sequential()\n",
    "model.add(keras.layers.normalization.BatchNormalization(input_shape=tuple([x_train.shape[1]])))\n",
    "model.add(keras.layers.core.Dense(32, activation='relu'))\n",
    "model.add(keras.layers.core.Dropout(rate=0.5))\n",
    "model.add(keras.layers.normalization.BatchNormalization())\n",
    "model.add(keras.layers.core.Dense(32, activation='relu'))\n",
    "model.add(keras.layers.core.Dropout(rate=0.5))\n",
    "model.add(keras.layers.normalization.BatchNormalization())\n",
    "model.add(keras.layers.core.Dense(32, activation='relu'))\n",
    "model.add(keras.layers.core.Dropout(rate=0.5))\n",
    "model.add(keras.layers.core.Dense(3,   activation='softmax'))\n",
    "model.compile(loss=\"categorical_crossentropy\", optimizer='rmsprop',metrics=[\"accuracy\"])\n",
    "print(model.summary())"
   ]
  },
  {
   "cell_type": "code",
   "execution_count": 12,
   "metadata": {},
   "outputs": [],
   "source": [
    "callback_early_stopping = keras.callbacks.EarlyStopping(monitor='loss', patience=10, verbose=0, mode='auto')"
   ]
  },
  {
   "cell_type": "code",
   "execution_count": 13,
   "metadata": {},
   "outputs": [
    {
     "name": "stdout",
     "output_type": "stream",
     "text": [
      "WARNING:tensorflow:From C:\\Users\\Ron\\Anaconda3\\lib\\site-packages\\tensorflow\\python\\ops\\math_ops.py:3066: to_int32 (from tensorflow.python.ops.math_ops) is deprecated and will be removed in a future version.\n",
      "Instructions for updating:\n",
      "Use tf.cast instead.\n",
      "Epoch 1/200\n",
      " - 2s - loss: 1.2485 - acc: 0.4125\n",
      "Epoch 2/200\n",
      " - 0s - loss: 0.9660 - acc: 0.5464\n",
      "Epoch 3/200\n",
      " - 0s - loss: 0.8233 - acc: 0.6181\n",
      "Epoch 4/200\n",
      " - 0s - loss: 0.7337 - acc: 0.6465\n",
      "Epoch 5/200\n",
      " - 0s - loss: 0.7019 - acc: 0.6802\n",
      "Epoch 6/200\n",
      " - 0s - loss: 0.6342 - acc: 0.7113\n",
      "Epoch 7/200\n",
      " - 0s - loss: 0.5823 - acc: 0.7454\n",
      "Epoch 8/200\n",
      " - 0s - loss: 0.5302 - acc: 0.7537\n",
      "Epoch 9/200\n",
      " - 0s - loss: 0.5248 - acc: 0.7638\n",
      "Epoch 10/200\n",
      " - 0s - loss: 0.4838 - acc: 0.7988\n",
      "Epoch 11/200\n",
      " - 0s - loss: 0.4984 - acc: 0.7817\n",
      "Epoch 12/200\n",
      " - 0s - loss: 0.4535 - acc: 0.8128\n",
      "Epoch 13/200\n",
      " - 1s - loss: 0.4435 - acc: 0.8185\n",
      "Epoch 14/200\n",
      " - 0s - loss: 0.4128 - acc: 0.8171\n",
      "Epoch 15/200\n",
      " - 1s - loss: 0.4121 - acc: 0.8325\n",
      "Epoch 16/200\n",
      " - 0s - loss: 0.3822 - acc: 0.8548\n",
      "Epoch 17/200\n",
      " - 1s - loss: 0.4093 - acc: 0.8351\n",
      "Epoch 18/200\n",
      " - 1s - loss: 0.3686 - acc: 0.8657\n",
      "Epoch 19/200\n",
      " - 0s - loss: 0.3712 - acc: 0.8570\n",
      "Epoch 20/200\n",
      " - 0s - loss: 0.3669 - acc: 0.8618\n",
      "Epoch 21/200\n",
      " - 0s - loss: 0.3565 - acc: 0.8705\n",
      "Epoch 22/200\n",
      " - 0s - loss: 0.3559 - acc: 0.8661\n",
      "Epoch 23/200\n",
      " - 0s - loss: 0.3369 - acc: 0.8801\n",
      "Epoch 24/200\n",
      " - 0s - loss: 0.3385 - acc: 0.8828\n",
      "Epoch 25/200\n",
      " - 0s - loss: 0.3251 - acc: 0.8937\n",
      "Epoch 26/200\n",
      " - 0s - loss: 0.3418 - acc: 0.8854\n",
      "Epoch 27/200\n",
      " - 1s - loss: 0.3356 - acc: 0.8775\n",
      "Epoch 28/200\n",
      " - 0s - loss: 0.3109 - acc: 0.8828\n",
      "Epoch 29/200\n",
      " - 0s - loss: 0.3118 - acc: 0.8893\n",
      "Epoch 30/200\n",
      " - 0s - loss: 0.3227 - acc: 0.8880\n",
      "Epoch 31/200\n",
      " - 0s - loss: 0.3051 - acc: 0.8946\n",
      "Epoch 32/200\n",
      " - 0s - loss: 0.3315 - acc: 0.8845\n",
      "Epoch 33/200\n",
      " - 0s - loss: 0.3100 - acc: 0.8928\n",
      "Epoch 34/200\n",
      " - 0s - loss: 0.3161 - acc: 0.8972\n",
      "Epoch 35/200\n",
      " - 0s - loss: 0.2860 - acc: 0.8972\n",
      "Epoch 36/200\n",
      " - 0s - loss: 0.2787 - acc: 0.9103\n",
      "Epoch 37/200\n",
      " - 0s - loss: 0.3052 - acc: 0.8946\n",
      "Epoch 38/200\n",
      " - 0s - loss: 0.3228 - acc: 0.8854\n",
      "Epoch 39/200\n",
      " - 0s - loss: 0.2912 - acc: 0.9020\n",
      "Epoch 40/200\n",
      " - 0s - loss: 0.2852 - acc: 0.8928\n",
      "Epoch 41/200\n",
      " - 0s - loss: 0.2840 - acc: 0.9020\n",
      "Epoch 42/200\n",
      " - 0s - loss: 0.2421 - acc: 0.9195\n",
      "Epoch 43/200\n",
      " - 0s - loss: 0.2985 - acc: 0.9007\n",
      "Epoch 44/200\n",
      " - 0s - loss: 0.2606 - acc: 0.9147\n",
      "Epoch 45/200\n",
      " - 0s - loss: 0.2999 - acc: 0.8998\n",
      "Epoch 46/200\n",
      " - 0s - loss: 0.2842 - acc: 0.9121\n",
      "Epoch 47/200\n",
      " - 0s - loss: 0.2768 - acc: 0.9134\n",
      "Epoch 48/200\n",
      " - 0s - loss: 0.2414 - acc: 0.9239\n",
      "Epoch 49/200\n",
      " - 0s - loss: 0.2616 - acc: 0.9099\n",
      "Epoch 50/200\n",
      " - 0s - loss: 0.2718 - acc: 0.9042\n",
      "Epoch 51/200\n",
      " - 0s - loss: 0.2279 - acc: 0.9186\n",
      "Epoch 52/200\n",
      " - 0s - loss: 0.2652 - acc: 0.9173\n",
      "Epoch 53/200\n",
      " - 0s - loss: 0.2679 - acc: 0.9116\n",
      "Epoch 54/200\n",
      " - 0s - loss: 0.2336 - acc: 0.9221\n",
      "Epoch 55/200\n",
      " - 0s - loss: 0.2415 - acc: 0.9151\n",
      "Epoch 56/200\n",
      " - 0s - loss: 0.2618 - acc: 0.9217\n",
      "Epoch 57/200\n",
      " - 0s - loss: 0.2573 - acc: 0.9160\n",
      "Epoch 58/200\n",
      " - 0s - loss: 0.2557 - acc: 0.9213\n",
      "Epoch 59/200\n",
      " - 0s - loss: 0.2362 - acc: 0.9261\n",
      "Epoch 60/200\n",
      " - 0s - loss: 0.2470 - acc: 0.9217\n",
      "Epoch 61/200\n",
      " - 0s - loss: 0.2236 - acc: 0.9296\n",
      "Epoch 62/200\n",
      " - 0s - loss: 0.2455 - acc: 0.9199\n",
      "Epoch 63/200\n",
      " - 0s - loss: 0.2182 - acc: 0.9326\n",
      "Epoch 64/200\n",
      " - 0s - loss: 0.2445 - acc: 0.9217\n",
      "Epoch 65/200\n",
      " - 0s - loss: 0.2451 - acc: 0.9261\n",
      "Epoch 66/200\n",
      " - 0s - loss: 0.2233 - acc: 0.9339\n",
      "Epoch 67/200\n",
      " - 0s - loss: 0.2350 - acc: 0.9248\n",
      "Epoch 68/200\n",
      " - 0s - loss: 0.2526 - acc: 0.9173\n",
      "Epoch 69/200\n",
      " - 0s - loss: 0.2345 - acc: 0.9256\n",
      "Epoch 70/200\n",
      " - 0s - loss: 0.2378 - acc: 0.9261\n",
      "Epoch 71/200\n",
      " - 0s - loss: 0.2344 - acc: 0.9300\n",
      "Epoch 72/200\n",
      " - 0s - loss: 0.2094 - acc: 0.9366\n",
      "Epoch 73/200\n",
      " - 0s - loss: 0.2237 - acc: 0.9261\n",
      "Epoch 74/200\n",
      " - 0s - loss: 0.2021 - acc: 0.9418\n",
      "Epoch 75/200\n",
      " - 0s - loss: 0.2295 - acc: 0.9269\n",
      "Epoch 76/200\n",
      " - 0s - loss: 0.2376 - acc: 0.9283\n",
      "Epoch 77/200\n",
      " - 0s - loss: 0.2004 - acc: 0.9291\n",
      "Epoch 78/200\n",
      " - 0s - loss: 0.2174 - acc: 0.9331\n",
      "Epoch 79/200\n",
      " - 0s - loss: 0.2560 - acc: 0.9164\n",
      "Epoch 80/200\n",
      " - 0s - loss: 0.2284 - acc: 0.9313\n",
      "Epoch 81/200\n",
      " - 0s - loss: 0.1988 - acc: 0.9396\n",
      "Epoch 82/200\n",
      " - 0s - loss: 0.2102 - acc: 0.9326\n",
      "Epoch 83/200\n",
      " - 0s - loss: 0.2349 - acc: 0.9296\n",
      "Epoch 84/200\n",
      " - 0s - loss: 0.2132 - acc: 0.9318\n",
      "Epoch 85/200\n",
      " - 0s - loss: 0.2016 - acc: 0.9344\n",
      "Epoch 86/200\n",
      " - 0s - loss: 0.1953 - acc: 0.9418\n",
      "Epoch 87/200\n",
      " - 0s - loss: 0.2437 - acc: 0.9213\n",
      "Epoch 88/200\n",
      " - 0s - loss: 0.1782 - acc: 0.9497\n",
      "Epoch 89/200\n",
      " - 0s - loss: 0.1852 - acc: 0.9322\n",
      "Epoch 90/200\n",
      " - 0s - loss: 0.2043 - acc: 0.9401\n",
      "Epoch 91/200\n",
      " - 0s - loss: 0.1933 - acc: 0.9423\n",
      "Epoch 92/200\n",
      " - 0s - loss: 0.1662 - acc: 0.9510\n",
      "Epoch 93/200\n",
      " - 0s - loss: 0.1892 - acc: 0.9431\n",
      "Epoch 94/200\n",
      " - 0s - loss: 0.2214 - acc: 0.9353\n",
      "Epoch 95/200\n",
      " - 0s - loss: 0.2106 - acc: 0.9348\n",
      "Epoch 96/200\n",
      " - 0s - loss: 0.1841 - acc: 0.9466\n",
      "Epoch 97/200\n",
      " - 0s - loss: 0.1789 - acc: 0.9444\n",
      "Epoch 98/200\n",
      " - 0s - loss: 0.1879 - acc: 0.9423\n",
      "Epoch 99/200\n",
      " - 0s - loss: 0.1802 - acc: 0.9370\n",
      "Epoch 100/200\n",
      " - 0s - loss: 0.2016 - acc: 0.9392\n",
      "Epoch 101/200\n",
      " - 0s - loss: 0.2163 - acc: 0.9366\n",
      "Epoch 102/200\n",
      " - 0s - loss: 0.1905 - acc: 0.9440\n"
     ]
    },
    {
     "data": {
      "text/plain": [
       "<keras.callbacks.History at 0x270cf639978>"
      ]
     },
     "execution_count": 13,
     "metadata": {},
     "output_type": "execute_result"
    }
   ],
   "source": [
    "'''Training'''\n",
    "model.fit(x_train, y_train, batch_size=64, epochs=200, verbose=2, callbacks=[callback_early_stopping])"
   ]
  },
  {
   "cell_type": "code",
   "execution_count": 14,
   "metadata": {},
   "outputs": [
    {
     "name": "stdout",
     "output_type": "stream",
     "text": [
      "763/763 [==============================] - 1s 742us/step\n"
     ]
    }
   ],
   "source": [
    "Final = model.evaluate(x_valid,y_valid)"
   ]
  },
  {
   "cell_type": "code",
   "execution_count": 15,
   "metadata": {},
   "outputs": [
    {
     "name": "stdout",
     "output_type": "stream",
     "text": [
      "Test loss: 0.24908629397655377\n",
      "Test accuracy: 0.9239842733893138\n"
     ]
    }
   ],
   "source": [
    "print('Test loss:', Final[0])\n",
    "print('Test accuracy:', Final[1])"
   ]
  },
  {
   "cell_type": "code",
   "execution_count": 18,
   "metadata": {},
   "outputs": [
    {
     "name": "stdout",
     "output_type": "stream",
     "text": [
      "              precision    recall  f1-score   support\n",
      "\n",
      "     Class 0       0.79      0.92      0.85       179\n",
      "     Class 1       0.96      0.88      0.92       341\n",
      "     Class 2       0.99      0.99      0.99       243\n",
      "\n",
      "   micro avg       0.92      0.92      0.92       763\n",
      "   macro avg       0.91      0.93      0.92       763\n",
      "weighted avg       0.93      0.92      0.93       763\n",
      "\n"
     ]
    }
   ],
   "source": [
    "'''Evaluation'''\n",
    "predicted_classes = model.predict(x_valid)\n",
    "\n",
    "predicted_classes = np.argmax(np.round(predicted_classes),axis=1)\n",
    "\n",
    "Y_test = np.argmax(np.round(y_valid),axis=1)\n",
    "\n",
    "from sklearn.metrics import classification_report\n",
    "target_names = [\"Class {}\".format(i) for i in range(3)]\n",
    "print(classification_report(Y_test, predicted_classes, target_names=target_names))"
   ]
  },
  {
   "cell_type": "code",
   "execution_count": null,
   "metadata": {},
   "outputs": [],
   "source": []
  },
  {
   "cell_type": "code",
   "execution_count": null,
   "metadata": {},
   "outputs": [],
   "source": []
  }
 ],
 "metadata": {
  "kernelspec": {
   "display_name": "Python 3",
   "language": "python",
   "name": "python3"
  },
  "language_info": {
   "codemirror_mode": {
    "name": "ipython",
    "version": 3
   },
   "file_extension": ".py",
   "mimetype": "text/x-python",
   "name": "python",
   "nbconvert_exporter": "python",
   "pygments_lexer": "ipython3",
   "version": "3.7.1"
  }
 },
 "nbformat": 4,
 "nbformat_minor": 2
}
